{
 "cells": [
  {
   "cell_type": "code",
   "execution_count": 429,
   "metadata": {
    "collapsed": true
   },
   "outputs": [],
   "source": [
    "import pandas as pd\n",
    "import numpy as np"
   ]
  },
  {
   "cell_type": "code",
   "execution_count": 430,
   "metadata": {
    "collapsed": true
   },
   "outputs": [],
   "source": [
    "import matplotlib.pyplot as plt\n",
    "import seaborn as sns"
   ]
  },
  {
   "cell_type": "code",
   "execution_count": 431,
   "metadata": {
    "collapsed": true
   },
   "outputs": [],
   "source": [
    "%matplotlib inline"
   ]
  },
  {
   "cell_type": "code",
   "execution_count": 432,
   "metadata": {
    "collapsed": true
   },
   "outputs": [],
   "source": [
    "demo = pd.read_csv('traindemographics.csv')\n",
    "perf = pd.read_csv('trainperf.csv')\n",
    "prel = pd.read_csv('trainprevloans.zip')"
   ]
  },
  {
   "cell_type": "code",
   "execution_count": 433,
   "metadata": {
    "collapsed": true
   },
   "outputs": [],
   "source": [
    "demo1 = pd.read_csv('testdemographics.csv')\n",
    "perf1 = pd.read_csv('testperf.csv')\n",
    "prel1 = pd.read_csv('testprevloans.zip')"
   ]
  },
  {
   "cell_type": "code",
   "execution_count": 434,
   "metadata": {
    "collapsed": true
   },
   "outputs": [],
   "source": [
    "#demo.head()"
   ]
  },
  {
   "cell_type": "code",
   "execution_count": 435,
   "metadata": {
    "collapsed": true
   },
   "outputs": [],
   "source": [
    "#demo1.head()"
   ]
  },
  {
   "cell_type": "code",
   "execution_count": 436,
   "metadata": {
    "collapsed": true
   },
   "outputs": [],
   "source": [
    "#prel.head()"
   ]
  },
  {
   "cell_type": "code",
   "execution_count": 437,
   "metadata": {
    "collapsed": true
   },
   "outputs": [],
   "source": [
    "#perf.head()"
   ]
  },
  {
   "cell_type": "code",
   "execution_count": 438,
   "metadata": {
    "collapsed": true
   },
   "outputs": [],
   "source": [
    "#perf.info()"
   ]
  },
  {
   "cell_type": "code",
   "execution_count": null,
   "metadata": {
    "collapsed": true
   },
   "outputs": [],
   "source": []
  },
  {
   "cell_type": "code",
   "execution_count": 439,
   "metadata": {
    "collapsed": true
   },
   "outputs": [],
   "source": [
    "df = pd.merge(demo,perf,how='inner', on='customerid')\n",
    "df1 = pd.merge(df,prel, how='inner', on='customerid')"
   ]
  },
  {
   "cell_type": "code",
   "execution_count": 440,
   "metadata": {
    "collapsed": true
   },
   "outputs": [],
   "source": [
    "dfT =pd.merge(demo1,perf1, how='inner', on='customerid')\n",
    "dfT1 = pd.merge(dfT,prel1, how='inner', on='customerid')"
   ]
  },
  {
   "cell_type": "code",
   "execution_count": 441,
   "metadata": {
    "collapsed": true
   },
   "outputs": [],
   "source": [
    "#df.isnull().sum()"
   ]
  },
  {
   "cell_type": "code",
   "execution_count": 442,
   "metadata": {},
   "outputs": [
    {
     "name": "stdout",
     "output_type": "stream",
     "text": [
      "<class 'pandas.core.frame.DataFrame'>\n",
      "Int64Index: 13693 entries, 0 to 13692\n",
      "Data columns (total 29 columns):\n",
      "customerid                    13693 non-null object\n",
      "birthdate                     13693 non-null object\n",
      "bank_account_type             13693 non-null object\n",
      "longitude_gps                 13693 non-null float64\n",
      "latitude_gps                  13693 non-null float64\n",
      "bank_name_clients             13693 non-null object\n",
      "bank_branch_clients           104 non-null object\n",
      "employment_status_clients     12330 non-null object\n",
      "level_of_education_clients    3464 non-null object\n",
      "systemloanid_x                13693 non-null int64\n",
      "loannumber_x                  13693 non-null int64\n",
      "approveddate_x                13693 non-null object\n",
      "creationdate_x                13693 non-null object\n",
      "loanamount_x                  13693 non-null float64\n",
      "totaldue_x                    13693 non-null float64\n",
      "termdays_x                    13693 non-null int64\n",
      "referredby_x                  802 non-null object\n",
      "good_bad_flag                 13693 non-null object\n",
      "systemloanid_y                13693 non-null int64\n",
      "loannumber_y                  13693 non-null int64\n",
      "approveddate_y                13693 non-null object\n",
      "creationdate_y                13693 non-null object\n",
      "loanamount_y                  13693 non-null float64\n",
      "totaldue_y                    13693 non-null float64\n",
      "termdays_y                    13693 non-null int64\n",
      "closeddate                    13693 non-null object\n",
      "referredby_y                  802 non-null object\n",
      "firstduedate                  13693 non-null object\n",
      "firstrepaiddate               13693 non-null object\n",
      "dtypes: float64(6), int64(6), object(17)\n",
      "memory usage: 3.1+ MB\n"
     ]
    }
   ],
   "source": [
    "df1.info()"
   ]
  },
  {
   "cell_type": "code",
   "execution_count": 443,
   "metadata": {},
   "outputs": [
    {
     "data": {
      "text/html": [
       "<div>\n",
       "<table border=\"1\" class=\"dataframe\">\n",
       "  <thead>\n",
       "    <tr style=\"text-align: right;\">\n",
       "      <th></th>\n",
       "      <th>customerid</th>\n",
       "      <th>birthdate</th>\n",
       "      <th>bank_account_type</th>\n",
       "      <th>longitude_gps</th>\n",
       "      <th>latitude_gps</th>\n",
       "      <th>bank_name_clients</th>\n",
       "      <th>bank_branch_clients</th>\n",
       "      <th>employment_status_clients</th>\n",
       "      <th>level_of_education_clients</th>\n",
       "      <th>systemloanid_x</th>\n",
       "      <th>...</th>\n",
       "      <th>loannumber_y</th>\n",
       "      <th>approveddate_y</th>\n",
       "      <th>creationdate_y</th>\n",
       "      <th>loanamount_y</th>\n",
       "      <th>totaldue_y</th>\n",
       "      <th>termdays_y</th>\n",
       "      <th>closeddate</th>\n",
       "      <th>referredby_y</th>\n",
       "      <th>firstduedate</th>\n",
       "      <th>firstrepaiddate</th>\n",
       "    </tr>\n",
       "  </thead>\n",
       "  <tbody>\n",
       "    <tr>\n",
       "      <th>0</th>\n",
       "      <td>8a858e135cb22031015cbafc76964ebd</td>\n",
       "      <td>1973-10-10 00:00:00.000000</td>\n",
       "      <td>Savings</td>\n",
       "      <td>3.319219</td>\n",
       "      <td>6.528604</td>\n",
       "      <td>GT Bank</td>\n",
       "      <td>NaN</td>\n",
       "      <td>NaN</td>\n",
       "      <td>NaN</td>\n",
       "      <td>301964962</td>\n",
       "      <td>...</td>\n",
       "      <td>1</td>\n",
       "      <td>2017-06-19 17:55:26.000000</td>\n",
       "      <td>2017-06-19 16:54:19.000000</td>\n",
       "      <td>10000.0</td>\n",
       "      <td>11500.0</td>\n",
       "      <td>15</td>\n",
       "      <td>2017-07-04 18:09:47.000000</td>\n",
       "      <td>8a858899538ddb8e0153a780c56e34bb</td>\n",
       "      <td>2017-07-05 00:00:00.000000</td>\n",
       "      <td>2017-07-04 17:59:36.000000</td>\n",
       "    </tr>\n",
       "    <tr>\n",
       "      <th>1</th>\n",
       "      <td>8a858e275c7ea5ec015c82482d7c3996</td>\n",
       "      <td>1986-01-21 00:00:00.000000</td>\n",
       "      <td>Savings</td>\n",
       "      <td>3.325598</td>\n",
       "      <td>7.119403</td>\n",
       "      <td>Sterling Bank</td>\n",
       "      <td>NaN</td>\n",
       "      <td>Permanent</td>\n",
       "      <td>NaN</td>\n",
       "      <td>301972172</td>\n",
       "      <td>...</td>\n",
       "      <td>1</td>\n",
       "      <td>2017-06-07 12:47:30.000000</td>\n",
       "      <td>2017-06-07 11:46:22.000000</td>\n",
       "      <td>10000.0</td>\n",
       "      <td>13000.0</td>\n",
       "      <td>30</td>\n",
       "      <td>2017-07-10 08:52:54.000000</td>\n",
       "      <td>NaN</td>\n",
       "      <td>2017-07-07 00:00:00.000000</td>\n",
       "      <td>2017-07-10 08:42:44.000000</td>\n",
       "    </tr>\n",
       "    <tr>\n",
       "      <th>2</th>\n",
       "      <td>8a858e5b5bd99460015bdc95cd485634</td>\n",
       "      <td>1987-04-01 00:00:00.000000</td>\n",
       "      <td>Savings</td>\n",
       "      <td>5.746100</td>\n",
       "      <td>5.563174</td>\n",
       "      <td>Fidelity Bank</td>\n",
       "      <td>NaN</td>\n",
       "      <td>NaN</td>\n",
       "      <td>NaN</td>\n",
       "      <td>301976271</td>\n",
       "      <td>...</td>\n",
       "      <td>3</td>\n",
       "      <td>2017-06-08 11:49:34.000000</td>\n",
       "      <td>2017-06-08 10:49:27.000000</td>\n",
       "      <td>10000.0</td>\n",
       "      <td>13000.0</td>\n",
       "      <td>30</td>\n",
       "      <td>2017-07-11 10:12:20.000000</td>\n",
       "      <td>NaN</td>\n",
       "      <td>2017-07-10 00:00:00.000000</td>\n",
       "      <td>2017-07-11 10:02:11.000000</td>\n",
       "    </tr>\n",
       "    <tr>\n",
       "      <th>3</th>\n",
       "      <td>8a858e5b5bd99460015bdc95cd485634</td>\n",
       "      <td>1987-04-01 00:00:00.000000</td>\n",
       "      <td>Savings</td>\n",
       "      <td>5.746100</td>\n",
       "      <td>5.563174</td>\n",
       "      <td>Fidelity Bank</td>\n",
       "      <td>NaN</td>\n",
       "      <td>NaN</td>\n",
       "      <td>NaN</td>\n",
       "      <td>301976271</td>\n",
       "      <td>...</td>\n",
       "      <td>1</td>\n",
       "      <td>2017-05-08 11:07:01.000000</td>\n",
       "      <td>2017-05-08 10:06:40.000000</td>\n",
       "      <td>10000.0</td>\n",
       "      <td>11500.0</td>\n",
       "      <td>15</td>\n",
       "      <td>2017-05-27 13:02:53.000000</td>\n",
       "      <td>NaN</td>\n",
       "      <td>2017-05-23 00:00:00.000000</td>\n",
       "      <td>2017-05-27 12:52:45.000000</td>\n",
       "    </tr>\n",
       "    <tr>\n",
       "      <th>4</th>\n",
       "      <td>8a858e5b5bd99460015bdc95cd485634</td>\n",
       "      <td>1987-04-01 00:00:00.000000</td>\n",
       "      <td>Savings</td>\n",
       "      <td>5.746100</td>\n",
       "      <td>5.563174</td>\n",
       "      <td>Fidelity Bank</td>\n",
       "      <td>NaN</td>\n",
       "      <td>NaN</td>\n",
       "      <td>NaN</td>\n",
       "      <td>301976271</td>\n",
       "      <td>...</td>\n",
       "      <td>2</td>\n",
       "      <td>2017-05-27 17:10:41.000000</td>\n",
       "      <td>2017-05-27 16:10:34.000000</td>\n",
       "      <td>10000.0</td>\n",
       "      <td>11500.0</td>\n",
       "      <td>15</td>\n",
       "      <td>2017-06-08 11:13:50.000000</td>\n",
       "      <td>NaN</td>\n",
       "      <td>2017-06-12 00:00:00.000000</td>\n",
       "      <td>2017-06-08 11:03:40.000000</td>\n",
       "    </tr>\n",
       "  </tbody>\n",
       "</table>\n",
       "<p>5 rows × 29 columns</p>\n",
       "</div>"
      ],
      "text/plain": [
       "                         customerid                   birthdate  \\\n",
       "0  8a858e135cb22031015cbafc76964ebd  1973-10-10 00:00:00.000000   \n",
       "1  8a858e275c7ea5ec015c82482d7c3996  1986-01-21 00:00:00.000000   \n",
       "2  8a858e5b5bd99460015bdc95cd485634  1987-04-01 00:00:00.000000   \n",
       "3  8a858e5b5bd99460015bdc95cd485634  1987-04-01 00:00:00.000000   \n",
       "4  8a858e5b5bd99460015bdc95cd485634  1987-04-01 00:00:00.000000   \n",
       "\n",
       "  bank_account_type  longitude_gps  latitude_gps bank_name_clients  \\\n",
       "0           Savings       3.319219      6.528604           GT Bank   \n",
       "1           Savings       3.325598      7.119403     Sterling Bank   \n",
       "2           Savings       5.746100      5.563174     Fidelity Bank   \n",
       "3           Savings       5.746100      5.563174     Fidelity Bank   \n",
       "4           Savings       5.746100      5.563174     Fidelity Bank   \n",
       "\n",
       "  bank_branch_clients employment_status_clients level_of_education_clients  \\\n",
       "0                 NaN                       NaN                        NaN   \n",
       "1                 NaN                 Permanent                        NaN   \n",
       "2                 NaN                       NaN                        NaN   \n",
       "3                 NaN                       NaN                        NaN   \n",
       "4                 NaN                       NaN                        NaN   \n",
       "\n",
       "   systemloanid_x             ...              loannumber_y  \\\n",
       "0       301964962             ...                         1   \n",
       "1       301972172             ...                         1   \n",
       "2       301976271             ...                         3   \n",
       "3       301976271             ...                         1   \n",
       "4       301976271             ...                         2   \n",
       "\n",
       "               approveddate_y              creationdate_y  loanamount_y  \\\n",
       "0  2017-06-19 17:55:26.000000  2017-06-19 16:54:19.000000       10000.0   \n",
       "1  2017-06-07 12:47:30.000000  2017-06-07 11:46:22.000000       10000.0   \n",
       "2  2017-06-08 11:49:34.000000  2017-06-08 10:49:27.000000       10000.0   \n",
       "3  2017-05-08 11:07:01.000000  2017-05-08 10:06:40.000000       10000.0   \n",
       "4  2017-05-27 17:10:41.000000  2017-05-27 16:10:34.000000       10000.0   \n",
       "\n",
       "   totaldue_y  termdays_y                  closeddate  \\\n",
       "0     11500.0          15  2017-07-04 18:09:47.000000   \n",
       "1     13000.0          30  2017-07-10 08:52:54.000000   \n",
       "2     13000.0          30  2017-07-11 10:12:20.000000   \n",
       "3     11500.0          15  2017-05-27 13:02:53.000000   \n",
       "4     11500.0          15  2017-06-08 11:13:50.000000   \n",
       "\n",
       "                       referredby_y                firstduedate  \\\n",
       "0  8a858899538ddb8e0153a780c56e34bb  2017-07-05 00:00:00.000000   \n",
       "1                               NaN  2017-07-07 00:00:00.000000   \n",
       "2                               NaN  2017-07-10 00:00:00.000000   \n",
       "3                               NaN  2017-05-23 00:00:00.000000   \n",
       "4                               NaN  2017-06-12 00:00:00.000000   \n",
       "\n",
       "              firstrepaiddate  \n",
       "0  2017-07-04 17:59:36.000000  \n",
       "1  2017-07-10 08:42:44.000000  \n",
       "2  2017-07-11 10:02:11.000000  \n",
       "3  2017-05-27 12:52:45.000000  \n",
       "4  2017-06-08 11:03:40.000000  \n",
       "\n",
       "[5 rows x 29 columns]"
      ]
     },
     "execution_count": 443,
     "metadata": {},
     "output_type": "execute_result"
    }
   ],
   "source": [
    "df1.head()"
   ]
  },
  {
   "cell_type": "code",
   "execution_count": null,
   "metadata": {},
   "outputs": [],
   "source": []
  },
  {
   "cell_type": "code",
   "execution_count": 444,
   "metadata": {},
   "outputs": [],
   "source": [
    "df1['firstrepaiddate'] = pd.to_datetime(df1['firstrepaiddate'])"
   ]
  },
  {
   "cell_type": "code",
   "execution_count": 445,
   "metadata": {},
   "outputs": [],
   "source": [
    "df1['firstrepaiddate'] = pd.to_datetime(df1['firstrepaiddate'])\n",
    "df1['firstrepaiddate'] = df1['firstrepaiddate'].dt.hour * 60 + df1['firstrepaiddate'].dt.minute"
   ]
  },
  {
   "cell_type": "code",
   "execution_count": 446,
   "metadata": {
    "collapsed": true
   },
   "outputs": [],
   "source": [
    "df1['birthdate'] = pd.to_datetime(df1['birthdate'])\n",
    "df1['birthdate'] = df1['birthdate'].dt.hour * 60 + df1['birthdate'].dt.minute"
   ]
  },
  {
   "cell_type": "code",
   "execution_count": 447,
   "metadata": {
    "collapsed": true
   },
   "outputs": [],
   "source": [
    "#df1['year'] = pd.DatetimeIndex(df1['firstrepaiddate']).year\n",
    "#df1['month'] = pd.DatetimeIndex(df1['firstrepaiddate']).month\n",
    "#df1['day'] = pd.DatetimeIndex(df1['firstrepaiddate']).day"
   ]
  },
  {
   "cell_type": "code",
   "execution_count": 448,
   "metadata": {},
   "outputs": [],
   "source": [
    "#df.info()"
   ]
  },
  {
   "cell_type": "code",
   "execution_count": 449,
   "metadata": {
    "collapsed": true
   },
   "outputs": [],
   "source": [
    "#df1.isnull().sum()"
   ]
  },
  {
   "cell_type": "code",
   "execution_count": 450,
   "metadata": {},
   "outputs": [
    {
     "name": "stdout",
     "output_type": "stream",
     "text": [
      "<class 'pandas.core.frame.DataFrame'>\n",
      "Int64Index: 13693 entries, 0 to 13692\n",
      "Data columns (total 29 columns):\n",
      "customerid                    13693 non-null object\n",
      "birthdate                     13693 non-null int64\n",
      "bank_account_type             13693 non-null object\n",
      "longitude_gps                 13693 non-null float64\n",
      "latitude_gps                  13693 non-null float64\n",
      "bank_name_clients             13693 non-null object\n",
      "bank_branch_clients           104 non-null object\n",
      "employment_status_clients     12330 non-null object\n",
      "level_of_education_clients    3464 non-null object\n",
      "systemloanid_x                13693 non-null int64\n",
      "loannumber_x                  13693 non-null int64\n",
      "approveddate_x                13693 non-null object\n",
      "creationdate_x                13693 non-null object\n",
      "loanamount_x                  13693 non-null float64\n",
      "totaldue_x                    13693 non-null float64\n",
      "termdays_x                    13693 non-null int64\n",
      "referredby_x                  802 non-null object\n",
      "good_bad_flag                 13693 non-null object\n",
      "systemloanid_y                13693 non-null int64\n",
      "loannumber_y                  13693 non-null int64\n",
      "approveddate_y                13693 non-null object\n",
      "creationdate_y                13693 non-null object\n",
      "loanamount_y                  13693 non-null float64\n",
      "totaldue_y                    13693 non-null float64\n",
      "termdays_y                    13693 non-null int64\n",
      "closeddate                    13693 non-null object\n",
      "referredby_y                  802 non-null object\n",
      "firstduedate                  13693 non-null object\n",
      "firstrepaiddate               13693 non-null int64\n",
      "dtypes: float64(6), int64(8), object(15)\n",
      "memory usage: 3.1+ MB\n"
     ]
    }
   ],
   "source": [
    "df1.info()"
   ]
  },
  {
   "cell_type": "code",
   "execution_count": 451,
   "metadata": {},
   "outputs": [
    {
     "data": {
      "text/html": [
       "<div>\n",
       "<table border=\"1\" class=\"dataframe\">\n",
       "  <thead>\n",
       "    <tr style=\"text-align: right;\">\n",
       "      <th></th>\n",
       "      <th>customerid</th>\n",
       "      <th>birthdate</th>\n",
       "      <th>bank_account_type</th>\n",
       "      <th>longitude_gps</th>\n",
       "      <th>latitude_gps</th>\n",
       "      <th>bank_name_clients</th>\n",
       "      <th>bank_branch_clients</th>\n",
       "      <th>employment_status_clients</th>\n",
       "      <th>level_of_education_clients</th>\n",
       "      <th>systemloanid_x</th>\n",
       "      <th>...</th>\n",
       "      <th>loannumber_y</th>\n",
       "      <th>approveddate_y</th>\n",
       "      <th>creationdate_y</th>\n",
       "      <th>loanamount_y</th>\n",
       "      <th>totaldue_y</th>\n",
       "      <th>termdays_y</th>\n",
       "      <th>closeddate</th>\n",
       "      <th>referredby_y</th>\n",
       "      <th>firstduedate</th>\n",
       "      <th>firstrepaiddate</th>\n",
       "    </tr>\n",
       "  </thead>\n",
       "  <tbody>\n",
       "    <tr>\n",
       "      <th>0</th>\n",
       "      <td>8a858e135cb22031015cbafc76964ebd</td>\n",
       "      <td>0</td>\n",
       "      <td>Savings</td>\n",
       "      <td>3.319219</td>\n",
       "      <td>6.528604</td>\n",
       "      <td>GT Bank</td>\n",
       "      <td>NaN</td>\n",
       "      <td>NaN</td>\n",
       "      <td>NaN</td>\n",
       "      <td>301964962</td>\n",
       "      <td>...</td>\n",
       "      <td>1</td>\n",
       "      <td>2017-06-19 17:55:26.000000</td>\n",
       "      <td>2017-06-19 16:54:19.000000</td>\n",
       "      <td>10000.0</td>\n",
       "      <td>11500.0</td>\n",
       "      <td>15</td>\n",
       "      <td>2017-07-04 18:09:47.000000</td>\n",
       "      <td>8a858899538ddb8e0153a780c56e34bb</td>\n",
       "      <td>2017-07-05 00:00:00.000000</td>\n",
       "      <td>1079</td>\n",
       "    </tr>\n",
       "    <tr>\n",
       "      <th>1</th>\n",
       "      <td>8a858e275c7ea5ec015c82482d7c3996</td>\n",
       "      <td>0</td>\n",
       "      <td>Savings</td>\n",
       "      <td>3.325598</td>\n",
       "      <td>7.119403</td>\n",
       "      <td>Sterling Bank</td>\n",
       "      <td>NaN</td>\n",
       "      <td>Permanent</td>\n",
       "      <td>NaN</td>\n",
       "      <td>301972172</td>\n",
       "      <td>...</td>\n",
       "      <td>1</td>\n",
       "      <td>2017-06-07 12:47:30.000000</td>\n",
       "      <td>2017-06-07 11:46:22.000000</td>\n",
       "      <td>10000.0</td>\n",
       "      <td>13000.0</td>\n",
       "      <td>30</td>\n",
       "      <td>2017-07-10 08:52:54.000000</td>\n",
       "      <td>NaN</td>\n",
       "      <td>2017-07-07 00:00:00.000000</td>\n",
       "      <td>522</td>\n",
       "    </tr>\n",
       "    <tr>\n",
       "      <th>2</th>\n",
       "      <td>8a858e5b5bd99460015bdc95cd485634</td>\n",
       "      <td>0</td>\n",
       "      <td>Savings</td>\n",
       "      <td>5.746100</td>\n",
       "      <td>5.563174</td>\n",
       "      <td>Fidelity Bank</td>\n",
       "      <td>NaN</td>\n",
       "      <td>NaN</td>\n",
       "      <td>NaN</td>\n",
       "      <td>301976271</td>\n",
       "      <td>...</td>\n",
       "      <td>3</td>\n",
       "      <td>2017-06-08 11:49:34.000000</td>\n",
       "      <td>2017-06-08 10:49:27.000000</td>\n",
       "      <td>10000.0</td>\n",
       "      <td>13000.0</td>\n",
       "      <td>30</td>\n",
       "      <td>2017-07-11 10:12:20.000000</td>\n",
       "      <td>NaN</td>\n",
       "      <td>2017-07-10 00:00:00.000000</td>\n",
       "      <td>602</td>\n",
       "    </tr>\n",
       "    <tr>\n",
       "      <th>3</th>\n",
       "      <td>8a858e5b5bd99460015bdc95cd485634</td>\n",
       "      <td>0</td>\n",
       "      <td>Savings</td>\n",
       "      <td>5.746100</td>\n",
       "      <td>5.563174</td>\n",
       "      <td>Fidelity Bank</td>\n",
       "      <td>NaN</td>\n",
       "      <td>NaN</td>\n",
       "      <td>NaN</td>\n",
       "      <td>301976271</td>\n",
       "      <td>...</td>\n",
       "      <td>1</td>\n",
       "      <td>2017-05-08 11:07:01.000000</td>\n",
       "      <td>2017-05-08 10:06:40.000000</td>\n",
       "      <td>10000.0</td>\n",
       "      <td>11500.0</td>\n",
       "      <td>15</td>\n",
       "      <td>2017-05-27 13:02:53.000000</td>\n",
       "      <td>NaN</td>\n",
       "      <td>2017-05-23 00:00:00.000000</td>\n",
       "      <td>772</td>\n",
       "    </tr>\n",
       "    <tr>\n",
       "      <th>4</th>\n",
       "      <td>8a858e5b5bd99460015bdc95cd485634</td>\n",
       "      <td>0</td>\n",
       "      <td>Savings</td>\n",
       "      <td>5.746100</td>\n",
       "      <td>5.563174</td>\n",
       "      <td>Fidelity Bank</td>\n",
       "      <td>NaN</td>\n",
       "      <td>NaN</td>\n",
       "      <td>NaN</td>\n",
       "      <td>301976271</td>\n",
       "      <td>...</td>\n",
       "      <td>2</td>\n",
       "      <td>2017-05-27 17:10:41.000000</td>\n",
       "      <td>2017-05-27 16:10:34.000000</td>\n",
       "      <td>10000.0</td>\n",
       "      <td>11500.0</td>\n",
       "      <td>15</td>\n",
       "      <td>2017-06-08 11:13:50.000000</td>\n",
       "      <td>NaN</td>\n",
       "      <td>2017-06-12 00:00:00.000000</td>\n",
       "      <td>663</td>\n",
       "    </tr>\n",
       "  </tbody>\n",
       "</table>\n",
       "<p>5 rows × 29 columns</p>\n",
       "</div>"
      ],
      "text/plain": [
       "                         customerid  birthdate bank_account_type  \\\n",
       "0  8a858e135cb22031015cbafc76964ebd          0           Savings   \n",
       "1  8a858e275c7ea5ec015c82482d7c3996          0           Savings   \n",
       "2  8a858e5b5bd99460015bdc95cd485634          0           Savings   \n",
       "3  8a858e5b5bd99460015bdc95cd485634          0           Savings   \n",
       "4  8a858e5b5bd99460015bdc95cd485634          0           Savings   \n",
       "\n",
       "   longitude_gps  latitude_gps bank_name_clients bank_branch_clients  \\\n",
       "0       3.319219      6.528604           GT Bank                 NaN   \n",
       "1       3.325598      7.119403     Sterling Bank                 NaN   \n",
       "2       5.746100      5.563174     Fidelity Bank                 NaN   \n",
       "3       5.746100      5.563174     Fidelity Bank                 NaN   \n",
       "4       5.746100      5.563174     Fidelity Bank                 NaN   \n",
       "\n",
       "  employment_status_clients level_of_education_clients  systemloanid_x  \\\n",
       "0                       NaN                        NaN       301964962   \n",
       "1                 Permanent                        NaN       301972172   \n",
       "2                       NaN                        NaN       301976271   \n",
       "3                       NaN                        NaN       301976271   \n",
       "4                       NaN                        NaN       301976271   \n",
       "\n",
       "        ...         loannumber_y              approveddate_y  \\\n",
       "0       ...                    1  2017-06-19 17:55:26.000000   \n",
       "1       ...                    1  2017-06-07 12:47:30.000000   \n",
       "2       ...                    3  2017-06-08 11:49:34.000000   \n",
       "3       ...                    1  2017-05-08 11:07:01.000000   \n",
       "4       ...                    2  2017-05-27 17:10:41.000000   \n",
       "\n",
       "               creationdate_y  loanamount_y  totaldue_y  termdays_y  \\\n",
       "0  2017-06-19 16:54:19.000000       10000.0     11500.0          15   \n",
       "1  2017-06-07 11:46:22.000000       10000.0     13000.0          30   \n",
       "2  2017-06-08 10:49:27.000000       10000.0     13000.0          30   \n",
       "3  2017-05-08 10:06:40.000000       10000.0     11500.0          15   \n",
       "4  2017-05-27 16:10:34.000000       10000.0     11500.0          15   \n",
       "\n",
       "                   closeddate                      referredby_y  \\\n",
       "0  2017-07-04 18:09:47.000000  8a858899538ddb8e0153a780c56e34bb   \n",
       "1  2017-07-10 08:52:54.000000                               NaN   \n",
       "2  2017-07-11 10:12:20.000000                               NaN   \n",
       "3  2017-05-27 13:02:53.000000                               NaN   \n",
       "4  2017-06-08 11:13:50.000000                               NaN   \n",
       "\n",
       "                 firstduedate  firstrepaiddate  \n",
       "0  2017-07-05 00:00:00.000000             1079  \n",
       "1  2017-07-07 00:00:00.000000              522  \n",
       "2  2017-07-10 00:00:00.000000              602  \n",
       "3  2017-05-23 00:00:00.000000              772  \n",
       "4  2017-06-12 00:00:00.000000              663  \n",
       "\n",
       "[5 rows x 29 columns]"
      ]
     },
     "execution_count": 451,
     "metadata": {},
     "output_type": "execute_result"
    }
   ],
   "source": [
    "df1.head()"
   ]
  },
  {
   "cell_type": "code",
   "execution_count": 452,
   "metadata": {},
   "outputs": [
    {
     "data": {
      "text/plain": [
       "<matplotlib.axes._subplots.AxesSubplot at 0x18dd6895cf8>"
      ]
     },
     "execution_count": 452,
     "metadata": {},
     "output_type": "execute_result"
    },
    {
     "data": {
      "image/png": "[encoded data removed]",
      "text/plain": [
       "<matplotlib.figure.Figure at 0x18dd7710860>"
      ]
     },
     "metadata": {},
     "output_type": "display_data"
    }
   ],
   "source": [
    "sns.heatmap(df1.corr(), annot=True)"
   ]
  },
  {
   "cell_type": "code",
   "execution_count": null,
   "metadata": {
    "collapsed": true
   },
   "outputs": [],
   "source": []
  },
  {
   "cell_type": "code",
   "execution_count": 453,
   "metadata": {},
   "outputs": [
    {
     "data": {
      "text/plain": [
       "Savings    8311\n",
       "Other      5228\n",
       "Current     154\n",
       "Name: bank_account_type, dtype: int64"
      ]
     },
     "execution_count": 453,
     "metadata": {},
     "output_type": "execute_result"
    }
   ],
   "source": [
    "df1['bank_account_type'].value_counts()"
   ]
  },
  {
   "cell_type": "code",
   "execution_count": 454,
   "metadata": {
    "collapsed": true
   },
   "outputs": [],
   "source": [
    "df1.drop('bank_branch_clients', inplace=True, axis=1)"
   ]
  },
  {
   "cell_type": "code",
   "execution_count": 455,
   "metadata": {},
   "outputs": [
    {
     "name": "stdout",
     "output_type": "stream",
     "text": [
      "<class 'pandas.core.frame.DataFrame'>\n",
      "Int64Index: 13693 entries, 0 to 13692\n",
      "Data columns (total 28 columns):\n",
      "customerid                    13693 non-null object\n",
      "birthdate                     13693 non-null int64\n",
      "bank_account_type             13693 non-null object\n",
      "longitude_gps                 13693 non-null float64\n",
      "latitude_gps                  13693 non-null float64\n",
      "bank_name_clients             13693 non-null object\n",
      "employment_status_clients     12330 non-null object\n",
      "level_of_education_clients    3464 non-null object\n",
      "systemloanid_x                13693 non-null int64\n",
      "loannumber_x                  13693 non-null int64\n",
      "approveddate_x                13693 non-null object\n",
      "creationdate_x                13693 non-null object\n",
      "loanamount_x                  13693 non-null float64\n",
      "totaldue_x                    13693 non-null float64\n",
      "termdays_x                    13693 non-null int64\n",
      "referredby_x                  802 non-null object\n",
      "good_bad_flag                 13693 non-null object\n",
      "systemloanid_y                13693 non-null int64\n",
      "loannumber_y                  13693 non-null int64\n",
      "approveddate_y                13693 non-null object\n",
      "creationdate_y                13693 non-null object\n",
      "loanamount_y                  13693 non-null float64\n",
      "totaldue_y                    13693 non-null float64\n",
      "termdays_y                    13693 non-null int64\n",
      "closeddate                    13693 non-null object\n",
      "referredby_y                  802 non-null object\n",
      "firstduedate                  13693 non-null object\n",
      "firstrepaiddate               13693 non-null int64\n",
      "dtypes: float64(6), int64(8), object(14)\n",
      "memory usage: 3.0+ MB\n"
     ]
    }
   ],
   "source": [
    "df1.info()"
   ]
  },
  {
   "cell_type": "code",
   "execution_count": 456,
   "metadata": {
    "collapsed": true
   },
   "outputs": [],
   "source": [
    "df1.drop(['referredby_x', 'referredby_y'], axis=1, inplace=True)\n",
    "dfT1.drop(['referredby_x', 'referredby_y'], axis=1, inplace=True)"
   ]
  },
  {
   "cell_type": "code",
   "execution_count": 457,
   "metadata": {
    "collapsed": true
   },
   "outputs": [],
   "source": [
    "df1.drop(['systemloanid_x', 'systemloanid_y', 'level_of_education_clients'], axis=1, inplace=True)\n",
    "dfT1.drop(['systemloanid_x', 'systemloanid_y', 'level_of_education_clients'], axis=1, inplace=True)"
   ]
  },
  {
   "cell_type": "code",
   "execution_count": 458,
   "metadata": {
    "collapsed": true
   },
   "outputs": [],
   "source": [
    "df1['LoanAmount'] = df1['loanamount_x'] - df1['loanamount_y']\n",
    "dfT1['LoanAmount'] = dfT1['loanamount_x'] - dfT1['loanamount_y']"
   ]
  },
  {
   "cell_type": "code",
   "execution_count": 459,
   "metadata": {
    "collapsed": true
   },
   "outputs": [],
   "source": [
    "df1.drop(['loanamount_x', 'loanamount_y'], axis=1, inplace=True)\n",
    "dfT1.drop(['loanamount_x', 'loanamount_y'], axis=1, inplace=True)"
   ]
  },
  {
   "cell_type": "code",
   "execution_count": 460,
   "metadata": {},
   "outputs": [
    {
     "name": "stdout",
     "output_type": "stream",
     "text": [
      "<class 'pandas.core.frame.DataFrame'>\n",
      "Int64Index: 13693 entries, 0 to 13692\n",
      "Data columns (total 22 columns):\n",
      "customerid                   13693 non-null object\n",
      "birthdate                    13693 non-null int64\n",
      "bank_account_type            13693 non-null object\n",
      "longitude_gps                13693 non-null float64\n",
      "latitude_gps                 13693 non-null float64\n",
      "bank_name_clients            13693 non-null object\n",
      "employment_status_clients    12330 non-null object\n",
      "loannumber_x                 13693 non-null int64\n",
      "approveddate_x               13693 non-null object\n",
      "creationdate_x               13693 non-null object\n",
      "totaldue_x                   13693 non-null float64\n",
      "termdays_x                   13693 non-null int64\n",
      "good_bad_flag                13693 non-null object\n",
      "loannumber_y                 13693 non-null int64\n",
      "approveddate_y               13693 non-null object\n",
      "creationdate_y               13693 non-null object\n",
      "totaldue_y                   13693 non-null float64\n",
      "termdays_y                   13693 non-null int64\n",
      "closeddate                   13693 non-null object\n",
      "firstduedate                 13693 non-null object\n",
      "firstrepaiddate              13693 non-null int64\n",
      "LoanAmount                   13693 non-null float64\n",
      "dtypes: float64(5), int64(6), object(11)\n",
      "memory usage: 2.4+ MB\n"
     ]
    }
   ],
   "source": [
    "df1.info()"
   ]
  },
  {
   "cell_type": "code",
   "execution_count": 461,
   "metadata": {
    "collapsed": true
   },
   "outputs": [],
   "source": [
    "df1['employment_status_clients'] = df1['employment_status_clients'].fillna(value='Permanent')\n",
    "dfT1['employment_status_clients'] = dfT1['employment_status_clients'].fillna(value='Permanent')\n"
   ]
  },
  {
   "cell_type": "code",
   "execution_count": 462,
   "metadata": {
    "collapsed": true
   },
   "outputs": [],
   "source": [
    "df1['loannumber'] = df1['loannumber_x'] - df1['loannumber_y']\n",
    "dfT1['loannumber'] = dfT1['loannumber_x'] - dfT1['loannumber_y']"
   ]
  },
  {
   "cell_type": "code",
   "execution_count": 463,
   "metadata": {
    "collapsed": true
   },
   "outputs": [],
   "source": [
    "df1.drop(['loannumber_x', 'loannumber_y'], axis=1, inplace=True)\n",
    "dfT1.drop(['loannumber_x', 'loannumber_y'], axis=1, inplace=True)"
   ]
  },
  {
   "cell_type": "code",
   "execution_count": 464,
   "metadata": {
    "collapsed": true
   },
   "outputs": [],
   "source": [
    "df1['totaldue'] = df1['totaldue_x'] - df1['totaldue_y']\n",
    "dfT1['totaldue'] = df1['totaldue_x'] - df1['totaldue_y']"
   ]
  },
  {
   "cell_type": "code",
   "execution_count": 465,
   "metadata": {
    "collapsed": true
   },
   "outputs": [],
   "source": [
    "df1.drop(['totaldue_x', 'totaldue_y'], axis=1, inplace=True)\n",
    "dfT1.drop(['totaldue_x', 'totaldue_y'], axis=1, inplace=True)"
   ]
  },
  {
   "cell_type": "code",
   "execution_count": 466,
   "metadata": {
    "collapsed": true
   },
   "outputs": [],
   "source": [
    "df1['termdays'] = df1['termdays_x'] - df1['termdays_y']\n",
    "dfT1['termdays'] = dfT1['termdays_x'] - dfT1['termdays_y']"
   ]
  },
  {
   "cell_type": "code",
   "execution_count": null,
   "metadata": {
    "collapsed": true
   },
   "outputs": [],
   "source": []
  },
  {
   "cell_type": "code",
   "execution_count": 467,
   "metadata": {
    "collapsed": true
   },
   "outputs": [],
   "source": [
    "df1['good_bad_flag'] = df1['good_bad_flag'].replace({'Good':1, 'Bad':0})"
   ]
  },
  {
   "cell_type": "code",
   "execution_count": 468,
   "metadata": {},
   "outputs": [
    {
     "data": {
      "text/plain": [
       "Index(['customerid', 'birthdate', 'bank_account_type', 'longitude_gps',\n",
       "       'latitude_gps', 'bank_name_clients', 'employment_status_clients',\n",
       "       'approveddate_x', 'creationdate_x', 'termdays_x', 'good_bad_flag',\n",
       "       'approveddate_y', 'creationdate_y', 'termdays_y', 'closeddate',\n",
       "       'firstduedate', 'firstrepaiddate', 'LoanAmount', 'loannumber',\n",
       "       'totaldue', 'termdays'],\n",
       "      dtype='object')"
      ]
     },
     "execution_count": 468,
     "metadata": {},
     "output_type": "execute_result"
    }
   ],
   "source": [
    "df1.columns"
   ]
  },
  {
   "cell_type": "code",
   "execution_count": 469,
   "metadata": {
    "collapsed": true
   },
   "outputs": [],
   "source": [
    "df1['LoanAmount'] = abs(df1['LoanAmount'])"
   ]
  },
  {
   "cell_type": "code",
   "execution_count": null,
   "metadata": {
    "collapsed": true
   },
   "outputs": [],
   "source": []
  },
  {
   "cell_type": "code",
   "execution_count": 470,
   "metadata": {
    "collapsed": true
   },
   "outputs": [],
   "source": [
    "df1.drop(['approveddate_x', 'creationdate_x', 'creationdate_y', 'termdays_x','termdays_y', 'closeddate', 'firstduedate','customerid','approveddate_y'], axis=1, inplace=True)\n",
    "dfT1.drop(['approveddate_x', 'creationdate_x', 'creationdate_y', 'termdays_x','termdays_y', 'closeddate', 'firstduedate','customerid','approveddate_y'], axis=1, inplace=True)"
   ]
  },
  {
   "cell_type": "code",
   "execution_count": 471,
   "metadata": {
    "collapsed": true
   },
   "outputs": [],
   "source": [
    "df1 = pd.get_dummies(df1)\n",
    "dfT1 = pd.get_dummies(dfT1)"
   ]
  },
  {
   "cell_type": "code",
   "execution_count": 472,
   "metadata": {},
   "outputs": [],
   "source": [
    "from sklearn.cross_validation import train_test_split"
   ]
  },
  {
   "cell_type": "code",
   "execution_count": 473,
   "metadata": {
    "collapsed": true
   },
   "outputs": [],
   "source": [
    "X = df1.drop('good_bad_flag', axis=1)\n",
    "y = df1['good_bad_flag']"
   ]
  },
  {
   "cell_type": "code",
   "execution_count": 474,
   "metadata": {
    "collapsed": true
   },
   "outputs": [],
   "source": [
    "X_train,X_test, y_train, y_test = train_test_split(X, y, random_state=42,test_size=0.2)"
   ]
  },
  {
   "cell_type": "code",
   "execution_count": 475,
   "metadata": {
    "collapsed": true
   },
   "outputs": [],
   "source": [
    "from sklearn.ensemble import GradientBoostingClassifier"
   ]
  },
  {
   "cell_type": "code",
   "execution_count": 476,
   "metadata": {
    "collapsed": true
   },
   "outputs": [],
   "source": [
    "logs = GradientBoostingClassifier(n_estimators=100, max_depth=2)"
   ]
  },
  {
   "cell_type": "code",
   "execution_count": 477,
   "metadata": {},
   "outputs": [
    {
     "data": {
      "text/plain": [
       "(2739,)"
      ]
     },
     "execution_count": 477,
     "metadata": {},
     "output_type": "execute_result"
    }
   ],
   "source": [
    "y_test.shape"
   ]
  },
  {
   "cell_type": "code",
   "execution_count": 478,
   "metadata": {},
   "outputs": [
    {
     "data": {
      "text/plain": [
       "GradientBoostingClassifier(criterion='friedman_mse', init=None,\n",
       "              learning_rate=0.1, loss='deviance', max_depth=2,\n",
       "              max_features=None, max_leaf_nodes=None,\n",
       "              min_impurity_decrease=0.0, min_impurity_split=None,\n",
       "              min_samples_leaf=1, min_samples_split=2,\n",
       "              min_weight_fraction_leaf=0.0, n_estimators=100,\n",
       "              presort='auto', random_state=None, subsample=1.0, verbose=0,\n",
       "              warm_start=False)"
      ]
     },
     "execution_count": 478,
     "metadata": {},
     "output_type": "execute_result"
    }
   ],
   "source": [
    "logs.fit(X_train, y_train)"
   ]
  },
  {
   "cell_type": "code",
   "execution_count": 479,
   "metadata": {
    "collapsed": true
   },
   "outputs": [],
   "source": [
    "pred = logs.predict(X_test)"
   ]
  },
  {
   "cell_type": "code",
   "execution_count": 480,
   "metadata": {
    "collapsed": true
   },
   "outputs": [],
   "source": [
    "from sklearn.metrics import accuracy_score, classification_report, confusion_matrix"
   ]
  },
  {
   "cell_type": "code",
   "execution_count": 481,
   "metadata": {},
   "outputs": [
    {
     "data": {
      "text/plain": [
       "0.81842249406609457"
      ]
     },
     "execution_count": 481,
     "metadata": {},
     "output_type": "execute_result"
    }
   ],
   "source": [
    "logs.score(X_train, y_train)"
   ]
  },
  {
   "cell_type": "code",
   "execution_count": 482,
   "metadata": {},
   "outputs": [
    {
     "data": {
      "text/plain": [
       "0.82876962395034681"
      ]
     },
     "execution_count": 482,
     "metadata": {},
     "output_type": "execute_result"
    }
   ],
   "source": [
    "logs.score(X_test, y_test)"
   ]
  },
  {
   "cell_type": "code",
   "execution_count": 483,
   "metadata": {},
   "outputs": [
    {
     "name": "stdout",
     "output_type": "stream",
     "text": [
      "             precision    recall  f1-score   support\n",
      "\n",
      "          0       0.65      0.03      0.06       476\n",
      "          1       0.83      1.00      0.91      2263\n",
      "\n",
      "avg / total       0.80      0.83      0.76      2739\n",
      "\n"
     ]
    }
   ],
   "source": [
    "print(classification_report(y_test, pred))"
   ]
  },
  {
   "cell_type": "code",
   "execution_count": 484,
   "metadata": {},
   "outputs": [
    {
     "name": "stdout",
     "output_type": "stream",
     "text": [
      "[[  15  461]\n",
      " [   8 2255]]\n"
     ]
    }
   ],
   "source": [
    "print(confusion_matrix(y_test, pred))"
   ]
  },
  {
   "cell_type": "code",
   "execution_count": 485,
   "metadata": {},
   "outputs": [
    {
     "name": "stdout",
     "output_type": "stream",
     "text": [
      "0.82876962395\n"
     ]
    }
   ],
   "source": [
    "print(accuracy_score(y_test, pred))"
   ]
  },
  {
   "cell_type": "code",
   "execution_count": 486,
   "metadata": {
    "collapsed": true
   },
   "outputs": [],
   "source": [
    "from sklearn.metrics import roc_auc_score"
   ]
  },
  {
   "cell_type": "code",
   "execution_count": 487,
   "metadata": {},
   "outputs": [
    {
     "name": "stdout",
     "output_type": "stream",
     "text": [
      "0.513988737342\n"
     ]
    }
   ],
   "source": [
    "print(roc_auc_score(y_test, pred))"
   ]
  },
  {
   "cell_type": "code",
   "execution_count": null,
   "metadata": {
    "collapsed": true
   },
   "outputs": [],
   "source": []
  },
  {
   "cell_type": "code",
   "execution_count": 488,
   "metadata": {},
   "outputs": [
    {
     "ename": "PermissionError",
     "evalue": "[Errno 13] Permission denied: 'submiss21.csv'",
     "output_type": "error",
     "traceback": [
      "\u001b[0;31m---------------------------------------------------------------------------\u001b[0m",
      "\u001b[0;31mPermissionError\u001b[0m                           Traceback (most recent call last)",
      "\u001b[0;32m<ipython-input-488-163c9eb524d2>\u001b[0m in \u001b[0;36m<module>\u001b[0;34m()\u001b[0m\n\u001b[1;32m      1\u001b[0m \u001b[0moutput\u001b[0m \u001b[1;33m=\u001b[0m \u001b[0mpd\u001b[0m\u001b[1;33m.\u001b[0m\u001b[0mDataFrame\u001b[0m\u001b[1;33m(\u001b[0m\u001b[1;33m{\u001b[0m\u001b[1;34m'good_bad'\u001b[0m\u001b[1;33m:\u001b[0m \u001b[0mpred\u001b[0m \u001b[1;33m}\u001b[0m\u001b[1;33m)\u001b[0m\u001b[1;33m\u001b[0m\u001b[0m\n\u001b[0;32m----> 2\u001b[0;31m \u001b[0moutput\u001b[0m\u001b[1;33m.\u001b[0m\u001b[0mto_csv\u001b[0m\u001b[1;33m(\u001b[0m\u001b[1;34m'submiss21.csv'\u001b[0m\u001b[1;33m,\u001b[0m \u001b[0mindex\u001b[0m\u001b[1;33m=\u001b[0m\u001b[1;32mFalse\u001b[0m\u001b[1;33m)\u001b[0m\u001b[1;33m\u001b[0m\u001b[0m\n\u001b[0m",
      "\u001b[0;32mC:\\Users\\Raheem Nasiru\\AppData\\Local\\Continuum\\Anaconda3\\lib\\site-packages\\pandas\\core\\frame.py\u001b[0m in \u001b[0;36mto_csv\u001b[0;34m(self, path_or_buf, sep, na_rep, float_format, columns, header, index, index_label, mode, encoding, compression, quoting, quotechar, line_terminator, chunksize, tupleize_cols, date_format, doublequote, escapechar, decimal)\u001b[0m\n\u001b[1;32m   1381\u001b[0m                                      \u001b[0mdoublequote\u001b[0m\u001b[1;33m=\u001b[0m\u001b[0mdoublequote\u001b[0m\u001b[1;33m,\u001b[0m\u001b[1;33m\u001b[0m\u001b[0m\n\u001b[1;32m   1382\u001b[0m                                      escapechar=escapechar, decimal=decimal)\n\u001b[0;32m-> 1383\u001b[0;31m         \u001b[0mformatter\u001b[0m\u001b[1;33m.\u001b[0m\u001b[0msave\u001b[0m\u001b[1;33m(\u001b[0m\u001b[1;33m)\u001b[0m\u001b[1;33m\u001b[0m\u001b[0m\n\u001b[0m\u001b[1;32m   1384\u001b[0m \u001b[1;33m\u001b[0m\u001b[0m\n\u001b[1;32m   1385\u001b[0m         \u001b[1;32mif\u001b[0m \u001b[0mpath_or_buf\u001b[0m \u001b[1;32mis\u001b[0m \u001b[1;32mNone\u001b[0m\u001b[1;33m:\u001b[0m\u001b[1;33m\u001b[0m\u001b[0m\n",
      "\u001b[0;32mC:\\Users\\Raheem Nasiru\\AppData\\Local\\Continuum\\Anaconda3\\lib\\site-packages\\pandas\\formats\\format.py\u001b[0m in \u001b[0;36msave\u001b[0;34m(self)\u001b[0m\n\u001b[1;32m   1458\u001b[0m             f = _get_handle(self.path_or_buf, self.mode,\n\u001b[1;32m   1459\u001b[0m                             \u001b[0mencoding\u001b[0m\u001b[1;33m=\u001b[0m\u001b[0mself\u001b[0m\u001b[1;33m.\u001b[0m\u001b[0mencoding\u001b[0m\u001b[1;33m,\u001b[0m\u001b[1;33m\u001b[0m\u001b[0m\n\u001b[0;32m-> 1460\u001b[0;31m                             compression=self.compression)\n\u001b[0m\u001b[1;32m   1461\u001b[0m             \u001b[0mclose\u001b[0m \u001b[1;33m=\u001b[0m \u001b[1;32mTrue\u001b[0m\u001b[1;33m\u001b[0m\u001b[0m\n\u001b[1;32m   1462\u001b[0m \u001b[1;33m\u001b[0m\u001b[0m\n",
      "\u001b[0;32mC:\\Users\\Raheem Nasiru\\AppData\\Local\\Continuum\\Anaconda3\\lib\\site-packages\\pandas\\io\\common.py\u001b[0m in \u001b[0;36m_get_handle\u001b[0;34m(path, mode, encoding, compression, memory_map)\u001b[0m\n\u001b[1;32m    330\u001b[0m                 \u001b[0mf\u001b[0m \u001b[1;33m=\u001b[0m \u001b[0mopen\u001b[0m\u001b[1;33m(\u001b[0m\u001b[0mpath\u001b[0m\u001b[1;33m,\u001b[0m \u001b[0mmode\u001b[0m\u001b[1;33m,\u001b[0m \u001b[0mencoding\u001b[0m\u001b[1;33m=\u001b[0m\u001b[0mencoding\u001b[0m\u001b[1;33m)\u001b[0m\u001b[1;33m\u001b[0m\u001b[0m\n\u001b[1;32m    331\u001b[0m             \u001b[1;32melse\u001b[0m\u001b[1;33m:\u001b[0m\u001b[1;33m\u001b[0m\u001b[0m\n\u001b[0;32m--> 332\u001b[0;31m                 \u001b[0mf\u001b[0m \u001b[1;33m=\u001b[0m \u001b[0mopen\u001b[0m\u001b[1;33m(\u001b[0m\u001b[0mpath\u001b[0m\u001b[1;33m,\u001b[0m \u001b[0mmode\u001b[0m\u001b[1;33m,\u001b[0m \u001b[0merrors\u001b[0m\u001b[1;33m=\u001b[0m\u001b[1;34m'replace'\u001b[0m\u001b[1;33m)\u001b[0m\u001b[1;33m\u001b[0m\u001b[0m\n\u001b[0m\u001b[1;32m    333\u001b[0m         \u001b[1;32melse\u001b[0m\u001b[1;33m:\u001b[0m\u001b[1;33m\u001b[0m\u001b[0m\n\u001b[1;32m    334\u001b[0m             \u001b[0mf\u001b[0m \u001b[1;33m=\u001b[0m \u001b[0mopen\u001b[0m\u001b[1;33m(\u001b[0m\u001b[0mpath\u001b[0m\u001b[1;33m,\u001b[0m \u001b[0mmode\u001b[0m\u001b[1;33m)\u001b[0m\u001b[1;33m\u001b[0m\u001b[0m\n",
      "\u001b[0;31mPermissionError\u001b[0m: [Errno 13] Permission denied: 'submiss21.csv'"
     ]
    }
   ],
   "source": [
    "output = pd.DataFrame({'good_bad': pred })\n",
    "output.to_csv('submiss21.csv', index=False)"
   ]
  },
  {
   "cell_type": "code",
   "execution_count": null,
   "metadata": {
    "collapsed": true
   },
   "outputs": [],
   "source": []
  }
 ],
 "metadata": {
  "kernelspec": {
   "display_name": "Python 3",
   "language": "python",
   "name": "python3"
  }
 },
 "nbformat": 4,
 "nbformat_minor": 2
}
